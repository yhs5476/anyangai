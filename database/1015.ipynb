{
 "cells": [
  {
   "cell_type": "code",
   "id": "initial_id",
   "metadata": {
    "collapsed": true,
    "ExecuteTime": {
     "end_time": "2024-10-18T04:05:11.463295Z",
     "start_time": "2024-10-18T04:05:11.461066Z"
    }
   },
   "source": [
    "import pandas as pd\n",
    "import numpy as np\n",
    "import matplotlib as plt"
   ],
   "outputs": [],
   "execution_count": 18
  },
  {
   "metadata": {
    "ExecuteTime": {
     "end_time": "2024-10-18T04:05:11.643313Z",
     "start_time": "2024-10-18T04:05:11.635744Z"
    }
   },
   "cell_type": "code",
   "source": "usa_df = pd.read_csv('usa.csv')",
   "id": "dc4930878071f909",
   "outputs": [],
   "execution_count": 19
  },
  {
   "metadata": {
    "ExecuteTime": {
     "end_time": "2024-10-18T04:05:11.796592Z",
     "start_time": "2024-10-18T04:05:11.794012Z"
    }
   },
   "cell_type": "code",
   "source": "filtered_usa_df = usa_df[['state','date_updated', 'tot_cases' ]]",
   "id": "a66810415addcc95",
   "outputs": [],
   "execution_count": 20
  },
  {
   "metadata": {
    "ExecuteTime": {
     "end_time": "2024-10-18T04:05:11.936233Z",
     "start_time": "2024-10-18T04:05:11.931922Z"
    }
   },
   "cell_type": "code",
   "source": "filtered_usa_df.head()",
   "id": "a19175adfa9f8196",
   "outputs": [
    {
     "data": {
      "text/plain": [
       "  state date_updated  tot_cases\n",
       "0    AK   01/23/2020          0\n",
       "1    AK   01/30/2020          0\n",
       "2    AK   02/06/2020          0\n",
       "3    AK   02/13/2020          0\n",
       "4    AK   02/20/2020          0"
      ],
      "text/html": [
       "<div>\n",
       "<style scoped>\n",
       "    .dataframe tbody tr th:only-of-type {\n",
       "        vertical-align: middle;\n",
       "    }\n",
       "\n",
       "    .dataframe tbody tr th {\n",
       "        vertical-align: top;\n",
       "    }\n",
       "\n",
       "    .dataframe thead th {\n",
       "        text-align: right;\n",
       "    }\n",
       "</style>\n",
       "<table border=\"1\" class=\"dataframe\">\n",
       "  <thead>\n",
       "    <tr style=\"text-align: right;\">\n",
       "      <th></th>\n",
       "      <th>state</th>\n",
       "      <th>date_updated</th>\n",
       "      <th>tot_cases</th>\n",
       "    </tr>\n",
       "  </thead>\n",
       "  <tbody>\n",
       "    <tr>\n",
       "      <th>0</th>\n",
       "      <td>AK</td>\n",
       "      <td>01/23/2020</td>\n",
       "      <td>0</td>\n",
       "    </tr>\n",
       "    <tr>\n",
       "      <th>1</th>\n",
       "      <td>AK</td>\n",
       "      <td>01/30/2020</td>\n",
       "      <td>0</td>\n",
       "    </tr>\n",
       "    <tr>\n",
       "      <th>2</th>\n",
       "      <td>AK</td>\n",
       "      <td>02/06/2020</td>\n",
       "      <td>0</td>\n",
       "    </tr>\n",
       "    <tr>\n",
       "      <th>3</th>\n",
       "      <td>AK</td>\n",
       "      <td>02/13/2020</td>\n",
       "      <td>0</td>\n",
       "    </tr>\n",
       "    <tr>\n",
       "      <th>4</th>\n",
       "      <td>AK</td>\n",
       "      <td>02/20/2020</td>\n",
       "      <td>0</td>\n",
       "    </tr>\n",
       "  </tbody>\n",
       "</table>\n",
       "</div>"
      ]
     },
     "execution_count": 21,
     "metadata": {},
     "output_type": "execute_result"
    }
   ],
   "execution_count": 21
  },
  {
   "metadata": {
    "ExecuteTime": {
     "end_time": "2024-10-18T04:05:12.139547Z",
     "start_time": "2024-10-18T04:05:12.132333Z"
    }
   },
   "cell_type": "code",
   "source": [
    "CA_df= filtered_usa_df[filtered_usa_df.state=='CA']\n",
    "CA_df\n",
    "CA_df=CA_df[['date_updated', 'tot_cases' ]]\n",
    "sorted_CA_df = CA_df.sort_values(by='date_updated')\n",
    "sorted_CA_df\n",
    "sorted_CA_df['date']=pd.to_datetime(sorted_CA_df['date_updated'])\n",
    "sorted_CA_df.sort_values(by='date',inplace=True)\n",
    "sorted_CA_df.set_index('date',inplace=True)\n",
    "sorted_CA_df\n",
    "CA_total_cases=sorted_CA_df['tot_cases']\n",
    "CA_total_cases.index=CA_total_cases.index.astype('string')\n",
    "str(CA_total_cases.index.dtype)\n",
    "CA_total_cases"
   ],
   "id": "40913870377f78be",
   "outputs": [
    {
     "data": {
      "text/plain": [
       "date\n",
       "2020-01-23           0\n",
       "2020-01-30           2\n",
       "2020-02-06           8\n",
       "2020-02-13          16\n",
       "2020-02-20          30\n",
       "                ...   \n",
       "2023-04-13    12205573\n",
       "2023-04-20    12218091\n",
       "2023-04-27    12230624\n",
       "2023-05-04    12242634\n",
       "2023-05-11    12251820\n",
       "Name: tot_cases, Length: 173, dtype: int64"
      ]
     },
     "execution_count": 22,
     "metadata": {},
     "output_type": "execute_result"
    }
   ],
   "execution_count": 22
  },
  {
   "metadata": {
    "ExecuteTime": {
     "end_time": "2024-10-18T04:05:12.274084Z",
     "start_time": "2024-10-18T04:05:12.267784Z"
    }
   },
   "cell_type": "code",
   "source": [
    "TX_df= filtered_usa_df[filtered_usa_df.state=='TX']\n",
    "TX_df\n",
    "TX_df=TX_df[['date_updated', 'tot_cases' ]]\n",
    "sorted_TX_df = TX_df.sort_values(by='date_updated')\n",
    "sorted_TX_df\n",
    "sorted_TX_df['date']=pd.to_datetime(sorted_TX_df['date_updated'])\n",
    "sorted_TX_df.set_index('date',inplace=True)\n",
    "sorted_TX_df\n",
    "TX_total_cases=sorted_TX_df['tot_cases']\n",
    "TX_total_cases\n",
    "TX_total_cases.index=TX_total_cases.index.astype('string')\n",
    "str(TX_total_cases.index.dtype)\n",
    "TX_total_cases"
   ],
   "id": "245f35347af7cbeb",
   "outputs": [
    {
     "data": {
      "text/plain": [
       "date\n",
       "2023-01-05    8225546\n",
       "2022-01-06    4968656\n",
       "2021-01-07    1881653\n",
       "2023-01-12    8260370\n",
       "2022-01-13    5344342\n",
       "               ...   \n",
       "2021-12-23    4436075\n",
       "2020-12-24    1616824\n",
       "2022-12-29    8187083\n",
       "2021-12-30    4540365\n",
       "2020-12-31    1731566\n",
       "Name: tot_cases, Length: 173, dtype: int64"
      ]
     },
     "execution_count": 23,
     "metadata": {},
     "output_type": "execute_result"
    }
   ],
   "execution_count": 23
  },
  {
   "metadata": {
    "ExecuteTime": {
     "end_time": "2024-10-18T04:05:12.417907Z",
     "start_time": "2024-10-18T04:05:12.411120Z"
    }
   },
   "cell_type": "code",
   "source": [
    "VA_df= filtered_usa_df[filtered_usa_df.state=='VA']\n",
    "VA_df\n",
    "VA_df=VA_df[['date_updated', 'tot_cases' ]]\n",
    "sorted_VA_df = VA_df.sort_values(by='date_updated')\n",
    "sorted_VA_df\n",
    "sorted_VA_df['date']=pd.to_datetime(sorted_VA_df['date_updated'])\n",
    "sorted_VA_df.set_index('date',inplace=True)\n",
    "sorted_VA_df\n",
    "VA_total_cases=sorted_VA_df['tot_cases']\n",
    "VA_total_cases\n",
    "VA_total_cases.index=VA_total_cases.index.astype('string')\n",
    "str(VA_total_cases.index.dtype)\n",
    "VA_total_cases\n"
   ],
   "id": "6f60438a153d7878",
   "outputs": [
    {
     "data": {
      "text/plain": [
       "date\n",
       "2023-01-05    2211819\n",
       "2022-01-06    1186887\n",
       "2021-01-07     377309\n",
       "2023-01-12    2229477\n",
       "2022-01-13    1315256\n",
       "               ...   \n",
       "2021-12-23    1034122\n",
       "2020-12-24     319134\n",
       "2022-12-29    2199302\n",
       "2021-12-30    1087405\n",
       "2020-12-31     344344\n",
       "Name: tot_cases, Length: 173, dtype: int64"
      ]
     },
     "execution_count": 24,
     "metadata": {},
     "output_type": "execute_result"
    }
   ],
   "execution_count": 24
  },
  {
   "metadata": {
    "ExecuteTime": {
     "end_time": "2024-10-18T04:05:12.586573Z",
     "start_time": "2024-10-18T04:05:12.579580Z"
    }
   },
   "cell_type": "code",
   "source": [
    "IL_df= filtered_usa_df[filtered_usa_df.state=='IL']\n",
    "IL_df\n",
    "IL_df=IL_df[['date_updated', 'tot_cases' ]]\n",
    "sorted_IL_df = IL_df.sort_values(by='date_updated')\n",
    "sorted_IL_df\n",
    "sorted_IL_df['date']=pd.to_datetime(sorted_IL_df['date_updated'])\n",
    "sorted_IL_df.set_index('date',inplace=True)\n",
    "sorted_IL_df\n",
    "IL_total_cases=sorted_IL_df['tot_cases']\n",
    "IL_total_cases\n",
    "IL_total_cases.index=IL_total_cases.index.astype('string')\n",
    "str(IL_total_cases.index.dtype)\n",
    "IL_total_cases"
   ],
   "id": "a982265f1d6e0c7b",
   "outputs": [
    {
     "data": {
      "text/plain": [
       "date\n",
       "2023-01-05    3980564\n",
       "2022-01-06    2295445\n",
       "2021-01-07     999288\n",
       "2023-01-12    3997877\n",
       "2022-01-13    2522953\n",
       "               ...   \n",
       "2021-12-23    2002360\n",
       "2020-12-24     918066\n",
       "2022-12-29    3963196\n",
       "2021-12-30    2119162\n",
       "2020-12-31     955381\n",
       "Name: tot_cases, Length: 173, dtype: int64"
      ]
     },
     "execution_count": 25,
     "metadata": {},
     "output_type": "execute_result"
    }
   ],
   "execution_count": 25
  },
  {
   "metadata": {
    "ExecuteTime": {
     "end_time": "2024-10-18T04:05:12.745996Z",
     "start_time": "2024-10-18T04:05:12.738999Z"
    }
   },
   "cell_type": "code",
   "source": [
    "WA_df= filtered_usa_df[filtered_usa_df.state=='WA']\n",
    "WA_df\n",
    "WA_df=WA_df[['date_updated', 'tot_cases' ]]\n",
    "sorted_WA_df = WA_df.sort_values(by='date_updated')\n",
    "sorted_WA_df\n",
    "sorted_WA_df['date']=pd.to_datetime(sorted_WA_df['date_updated'])\n",
    "sorted_WA_df.set_index('date',inplace=True)\n",
    "WA_total_cases=sorted_WA_df['tot_cases']\n",
    "WA_total_cases\n",
    "WA_total_cases.index=WA_total_cases.index.astype('string')\n",
    "str(WA_total_cases.index.dtype)\n",
    "WA_total_cases"
   ],
   "id": "cb7e927f50c2d984",
   "outputs": [
    {
     "data": {
      "text/plain": [
       "date\n",
       "2023-01-05    1889579\n",
       "2022-01-06     913274\n",
       "2021-01-07     262154\n",
       "2023-01-12    1895033\n",
       "2022-01-13    1024479\n",
       "               ...   \n",
       "2021-12-23     813508\n",
       "2020-12-24     231634\n",
       "2022-12-29    1884126\n",
       "2021-12-30     848761\n",
       "2020-12-31     244804\n",
       "Name: tot_cases, Length: 173, dtype: int64"
      ]
     },
     "execution_count": 26,
     "metadata": {},
     "output_type": "execute_result"
    }
   ],
   "execution_count": 26
  },
  {
   "metadata": {
    "ExecuteTime": {
     "end_time": "2024-10-18T04:05:12.932395Z",
     "start_time": "2024-10-18T04:05:12.930337Z"
    }
   },
   "cell_type": "code",
   "source": [
    "ca_population = 39_995_077\n",
    "rate1 = round(ca_population/29_945_493, 2)\n",
    "rate2 = round(ca_population/8_757_467, 2)\n",
    "rate3 = round(ca_population/12_808_884, 2)\n",
    "rate4 = round(ca_population/7_901_429, 2)\n",
    "\n"
   ],
   "id": "cf37e957e3f2f26b",
   "outputs": [],
   "execution_count": 27
  },
  {
   "metadata": {
    "ExecuteTime": {
     "end_time": "2024-10-18T04:05:13.106241Z",
     "start_time": "2024-10-18T04:05:13.098593Z"
    }
   },
   "cell_type": "code",
   "source": [
    "final_us_revised_df = pd.DataFrame({\n",
    "    'CA' : CA_total_cases,\n",
    "    'TX' : TX_total_cases * rate1,\n",
    "    'VA' : VA_total_cases * rate2,\n",
    "    'WA' : WA_total_cases * rate4,\n",
    "    'IL' : IL_total_cases * rate3,\n",
    "    \n",
    "},index=CA_total_cases.index\n",
    ")\n",
    "final_us_revised_df"
   ],
   "id": "691616bee9561a3d",
   "outputs": [
    {
     "data": {
      "text/plain": [
       "                  CA           TX           VA          WA           IL\n",
       "date                                                                   \n",
       "2020-01-23         0         0.00         0.00        5.06         0.00\n",
       "2020-01-30         2         0.00         0.00        5.06         3.12\n",
       "2020-02-06         8         0.00         0.00        5.06         6.24\n",
       "2020-02-13        16         0.00         0.00        5.06         6.24\n",
       "2020-02-20        30         0.00         0.00        5.06         6.24\n",
       "...              ...          ...          ...         ...          ...\n",
       "2023-04-13  12205573  11359729.40  10529435.38  9865608.50  12860783.52\n",
       "2023-04-20  12218091  11373456.36  10537793.91  9877706.96  12878186.88\n",
       "2023-04-27  12230624  11384640.00  10545019.08  9889167.86  12891265.92\n",
       "2023-05-04  12242634  11393462.56  10552591.57  9898321.40  12903720.96\n",
       "2023-05-11  12251820  11400993.36  10560566.22  9906260.54  12906376.08\n",
       "\n",
       "[173 rows x 5 columns]"
      ],
      "text/html": [
       "<div>\n",
       "<style scoped>\n",
       "    .dataframe tbody tr th:only-of-type {\n",
       "        vertical-align: middle;\n",
       "    }\n",
       "\n",
       "    .dataframe tbody tr th {\n",
       "        vertical-align: top;\n",
       "    }\n",
       "\n",
       "    .dataframe thead th {\n",
       "        text-align: right;\n",
       "    }\n",
       "</style>\n",
       "<table border=\"1\" class=\"dataframe\">\n",
       "  <thead>\n",
       "    <tr style=\"text-align: right;\">\n",
       "      <th></th>\n",
       "      <th>CA</th>\n",
       "      <th>TX</th>\n",
       "      <th>VA</th>\n",
       "      <th>WA</th>\n",
       "      <th>IL</th>\n",
       "    </tr>\n",
       "    <tr>\n",
       "      <th>date</th>\n",
       "      <th></th>\n",
       "      <th></th>\n",
       "      <th></th>\n",
       "      <th></th>\n",
       "      <th></th>\n",
       "    </tr>\n",
       "  </thead>\n",
       "  <tbody>\n",
       "    <tr>\n",
       "      <th>2020-01-23</th>\n",
       "      <td>0</td>\n",
       "      <td>0.00</td>\n",
       "      <td>0.00</td>\n",
       "      <td>5.06</td>\n",
       "      <td>0.00</td>\n",
       "    </tr>\n",
       "    <tr>\n",
       "      <th>2020-01-30</th>\n",
       "      <td>2</td>\n",
       "      <td>0.00</td>\n",
       "      <td>0.00</td>\n",
       "      <td>5.06</td>\n",
       "      <td>3.12</td>\n",
       "    </tr>\n",
       "    <tr>\n",
       "      <th>2020-02-06</th>\n",
       "      <td>8</td>\n",
       "      <td>0.00</td>\n",
       "      <td>0.00</td>\n",
       "      <td>5.06</td>\n",
       "      <td>6.24</td>\n",
       "    </tr>\n",
       "    <tr>\n",
       "      <th>2020-02-13</th>\n",
       "      <td>16</td>\n",
       "      <td>0.00</td>\n",
       "      <td>0.00</td>\n",
       "      <td>5.06</td>\n",
       "      <td>6.24</td>\n",
       "    </tr>\n",
       "    <tr>\n",
       "      <th>2020-02-20</th>\n",
       "      <td>30</td>\n",
       "      <td>0.00</td>\n",
       "      <td>0.00</td>\n",
       "      <td>5.06</td>\n",
       "      <td>6.24</td>\n",
       "    </tr>\n",
       "    <tr>\n",
       "      <th>...</th>\n",
       "      <td>...</td>\n",
       "      <td>...</td>\n",
       "      <td>...</td>\n",
       "      <td>...</td>\n",
       "      <td>...</td>\n",
       "    </tr>\n",
       "    <tr>\n",
       "      <th>2023-04-13</th>\n",
       "      <td>12205573</td>\n",
       "      <td>11359729.40</td>\n",
       "      <td>10529435.38</td>\n",
       "      <td>9865608.50</td>\n",
       "      <td>12860783.52</td>\n",
       "    </tr>\n",
       "    <tr>\n",
       "      <th>2023-04-20</th>\n",
       "      <td>12218091</td>\n",
       "      <td>11373456.36</td>\n",
       "      <td>10537793.91</td>\n",
       "      <td>9877706.96</td>\n",
       "      <td>12878186.88</td>\n",
       "    </tr>\n",
       "    <tr>\n",
       "      <th>2023-04-27</th>\n",
       "      <td>12230624</td>\n",
       "      <td>11384640.00</td>\n",
       "      <td>10545019.08</td>\n",
       "      <td>9889167.86</td>\n",
       "      <td>12891265.92</td>\n",
       "    </tr>\n",
       "    <tr>\n",
       "      <th>2023-05-04</th>\n",
       "      <td>12242634</td>\n",
       "      <td>11393462.56</td>\n",
       "      <td>10552591.57</td>\n",
       "      <td>9898321.40</td>\n",
       "      <td>12903720.96</td>\n",
       "    </tr>\n",
       "    <tr>\n",
       "      <th>2023-05-11</th>\n",
       "      <td>12251820</td>\n",
       "      <td>11400993.36</td>\n",
       "      <td>10560566.22</td>\n",
       "      <td>9906260.54</td>\n",
       "      <td>12906376.08</td>\n",
       "    </tr>\n",
       "  </tbody>\n",
       "</table>\n",
       "<p>173 rows × 5 columns</p>\n",
       "</div>"
      ]
     },
     "execution_count": 28,
     "metadata": {},
     "output_type": "execute_result"
    }
   ],
   "execution_count": 28
  },
  {
   "metadata": {
    "ExecuteTime": {
     "end_time": "2024-10-18T04:05:13.262937Z",
     "start_time": "2024-10-18T04:05:13.256609Z"
    }
   },
   "cell_type": "code",
   "source": "final_us_revised_df.dropna(how='any')",
   "id": "4e7232178e33b1ab",
   "outputs": [
    {
     "data": {
      "text/plain": [
       "                  CA           TX           VA          WA           IL\n",
       "date                                                                   \n",
       "2020-01-23         0         0.00         0.00        5.06         0.00\n",
       "2020-01-30         2         0.00         0.00        5.06         3.12\n",
       "2020-02-06         8         0.00         0.00        5.06         6.24\n",
       "2020-02-13        16         0.00         0.00        5.06         6.24\n",
       "2020-02-20        30         0.00         0.00        5.06         6.24\n",
       "...              ...          ...          ...         ...          ...\n",
       "2023-04-13  12205573  11359729.40  10529435.38  9865608.50  12860783.52\n",
       "2023-04-20  12218091  11373456.36  10537793.91  9877706.96  12878186.88\n",
       "2023-04-27  12230624  11384640.00  10545019.08  9889167.86  12891265.92\n",
       "2023-05-04  12242634  11393462.56  10552591.57  9898321.40  12903720.96\n",
       "2023-05-11  12251820  11400993.36  10560566.22  9906260.54  12906376.08\n",
       "\n",
       "[173 rows x 5 columns]"
      ],
      "text/html": [
       "<div>\n",
       "<style scoped>\n",
       "    .dataframe tbody tr th:only-of-type {\n",
       "        vertical-align: middle;\n",
       "    }\n",
       "\n",
       "    .dataframe tbody tr th {\n",
       "        vertical-align: top;\n",
       "    }\n",
       "\n",
       "    .dataframe thead th {\n",
       "        text-align: right;\n",
       "    }\n",
       "</style>\n",
       "<table border=\"1\" class=\"dataframe\">\n",
       "  <thead>\n",
       "    <tr style=\"text-align: right;\">\n",
       "      <th></th>\n",
       "      <th>CA</th>\n",
       "      <th>TX</th>\n",
       "      <th>VA</th>\n",
       "      <th>WA</th>\n",
       "      <th>IL</th>\n",
       "    </tr>\n",
       "    <tr>\n",
       "      <th>date</th>\n",
       "      <th></th>\n",
       "      <th></th>\n",
       "      <th></th>\n",
       "      <th></th>\n",
       "      <th></th>\n",
       "    </tr>\n",
       "  </thead>\n",
       "  <tbody>\n",
       "    <tr>\n",
       "      <th>2020-01-23</th>\n",
       "      <td>0</td>\n",
       "      <td>0.00</td>\n",
       "      <td>0.00</td>\n",
       "      <td>5.06</td>\n",
       "      <td>0.00</td>\n",
       "    </tr>\n",
       "    <tr>\n",
       "      <th>2020-01-30</th>\n",
       "      <td>2</td>\n",
       "      <td>0.00</td>\n",
       "      <td>0.00</td>\n",
       "      <td>5.06</td>\n",
       "      <td>3.12</td>\n",
       "    </tr>\n",
       "    <tr>\n",
       "      <th>2020-02-06</th>\n",
       "      <td>8</td>\n",
       "      <td>0.00</td>\n",
       "      <td>0.00</td>\n",
       "      <td>5.06</td>\n",
       "      <td>6.24</td>\n",
       "    </tr>\n",
       "    <tr>\n",
       "      <th>2020-02-13</th>\n",
       "      <td>16</td>\n",
       "      <td>0.00</td>\n",
       "      <td>0.00</td>\n",
       "      <td>5.06</td>\n",
       "      <td>6.24</td>\n",
       "    </tr>\n",
       "    <tr>\n",
       "      <th>2020-02-20</th>\n",
       "      <td>30</td>\n",
       "      <td>0.00</td>\n",
       "      <td>0.00</td>\n",
       "      <td>5.06</td>\n",
       "      <td>6.24</td>\n",
       "    </tr>\n",
       "    <tr>\n",
       "      <th>...</th>\n",
       "      <td>...</td>\n",
       "      <td>...</td>\n",
       "      <td>...</td>\n",
       "      <td>...</td>\n",
       "      <td>...</td>\n",
       "    </tr>\n",
       "    <tr>\n",
       "      <th>2023-04-13</th>\n",
       "      <td>12205573</td>\n",
       "      <td>11359729.40</td>\n",
       "      <td>10529435.38</td>\n",
       "      <td>9865608.50</td>\n",
       "      <td>12860783.52</td>\n",
       "    </tr>\n",
       "    <tr>\n",
       "      <th>2023-04-20</th>\n",
       "      <td>12218091</td>\n",
       "      <td>11373456.36</td>\n",
       "      <td>10537793.91</td>\n",
       "      <td>9877706.96</td>\n",
       "      <td>12878186.88</td>\n",
       "    </tr>\n",
       "    <tr>\n",
       "      <th>2023-04-27</th>\n",
       "      <td>12230624</td>\n",
       "      <td>11384640.00</td>\n",
       "      <td>10545019.08</td>\n",
       "      <td>9889167.86</td>\n",
       "      <td>12891265.92</td>\n",
       "    </tr>\n",
       "    <tr>\n",
       "      <th>2023-05-04</th>\n",
       "      <td>12242634</td>\n",
       "      <td>11393462.56</td>\n",
       "      <td>10552591.57</td>\n",
       "      <td>9898321.40</td>\n",
       "      <td>12903720.96</td>\n",
       "    </tr>\n",
       "    <tr>\n",
       "      <th>2023-05-11</th>\n",
       "      <td>12251820</td>\n",
       "      <td>11400993.36</td>\n",
       "      <td>10560566.22</td>\n",
       "      <td>9906260.54</td>\n",
       "      <td>12906376.08</td>\n",
       "    </tr>\n",
       "  </tbody>\n",
       "</table>\n",
       "<p>173 rows × 5 columns</p>\n",
       "</div>"
      ]
     },
     "execution_count": 29,
     "metadata": {},
     "output_type": "execute_result"
    }
   ],
   "execution_count": 29
  },
  {
   "metadata": {
    "ExecuteTime": {
     "end_time": "2024-10-18T04:05:13.567177Z",
     "start_time": "2024-10-18T04:05:13.457907Z"
    }
   },
   "cell_type": "code",
   "source": "final_us_revised_df['2022-01-01':'2022-06-30'].plot.line(rot=45)",
   "id": "ab9033c52e17f752",
   "outputs": [
    {
     "data": {
      "text/plain": [
       "<Axes: xlabel='date'>"
      ]
     },
     "execution_count": 30,
     "metadata": {},
     "output_type": "execute_result"
    },
    {
     "data": {
      "text/plain": [
       "<Figure size 640x480 with 1 Axes>"
      ],
      "image/png": "[encoded data removed]"
     },
     "metadata": {},
     "output_type": "display_data"
    }
   ],
   "execution_count": 30
  },
  {
   "metadata": {
    "ExecuteTime": {
     "end_time": "2024-10-18T04:05:13.748993Z",
     "start_time": "2024-10-18T04:05:13.735659Z"
    }
   },
   "cell_type": "code",
   "source": [
    "VA_df= filtered_usa_df[filtered_usa_df.state=='VA']\n",
    "VA_df\n",
    "VA_df=VA_df[['date_updated', 'tot_cases' ]]\n",
    "sorted_VA_df = VA_df.sort_values(by='date_updated')\n",
    "sorted_VA_df\n",
    "sorted_VA_df['date']=pd.to_datetime(sorted_VA_df['date_updated'])\n",
    "sorted_VA_df.set_index('date',inplace=True)\n",
    "sorted_VA_df\n",
    "VA_total_cases=sorted_VA_df['tot_cases']\n",
    "VA_total_cases\n",
    "VA_total_cases.index=VA_total_cases.index.astype('string')\n",
    "str(VA_total_cases.index.dtype)\n",
    "VA_total_cases\n",
    "VA_df= filtered_usa_df[filtered_usa_df.state=='VA']\n",
    "VA_df\n",
    "VA_df=VA_df[['date_updated', 'tot_cases' ]]\n",
    "sorted_VA_df = VA_df.sort_values(by='date_updated')\n",
    "sorted_VA_df\n",
    "sorted_VA_df['date']=pd.to_datetime(sorted_VA_df['date_updated'])\n",
    "sorted_VA_df.set_index('date',inplace=True)\n",
    "sorted_VA_df\n",
    "VA_total_cases=sorted_VA_df['tot_cases']\n",
    "VA_total_cases\n",
    "VA_total_cases.index=VA_total_cases.index.astype('string')\n",
    "str(VA_total_cases.index.dtype)\n",
    "VA_total_cases\n",
    "VA_df= filtered_usa_df[filtered_usa_df.state=='VA']\n",
    "VA_df\n",
    "VA_df=VA_df[['date_updated', 'tot_cases' ]]\n",
    "sorted_VA_df = VA_df.sort_values(by='date_updated')\n",
    "sorted_VA_df\n",
    "sorted_VA_df['date']=pd.to_datetime(sorted_VA_df['date_updated'])\n",
    "sorted_VA_df.set_index('date',inplace=True)\n",
    "sorted_VA_df\n",
    "VA_total_cases=sorted_VA_df['tot_cases']\n",
    "VA_total_cases\n",
    "VA_total_cases.index=VA_total_cases.index.astype('string')\n",
    "str(VA_total_cases.index.dtype)\n",
    "VA_total_cases\n"
   ],
   "id": "df75fe07d386e02a",
   "outputs": [
    {
     "data": {
      "text/plain": [
       "date\n",
       "2023-01-05    2211819\n",
       "2022-01-06    1186887\n",
       "2021-01-07     377309\n",
       "2023-01-12    2229477\n",
       "2022-01-13    1315256\n",
       "               ...   \n",
       "2021-12-23    1034122\n",
       "2020-12-24     319134\n",
       "2022-12-29    2199302\n",
       "2021-12-30    1087405\n",
       "2020-12-31     344344\n",
       "Name: tot_cases, Length: 173, dtype: int64"
      ]
     },
     "execution_count": 31,
     "metadata": {},
     "output_type": "execute_result"
    }
   ],
   "execution_count": 31
  },
  {
   "metadata": {
    "ExecuteTime": {
     "end_time": "2024-10-18T04:05:13.791620Z",
     "start_time": "2024-10-18T04:05:13.790128Z"
    }
   },
   "cell_type": "code",
   "source": "",
   "id": "3f52c54a773d06f7",
   "outputs": [],
   "execution_count": 31
  },
  {
   "metadata": {
    "ExecuteTime": {
     "end_time": "2024-10-18T04:05:13.962703Z",
     "start_time": "2024-10-18T04:05:13.961059Z"
    }
   },
   "cell_type": "code",
   "source": "",
   "id": "5cea6b493dc5e20d",
   "outputs": [],
   "execution_count": 31
  },
  {
   "metadata": {
    "ExecuteTime": {
     "end_time": "2024-10-18T04:05:14.171771Z",
     "start_time": "2024-10-18T04:05:14.170179Z"
    }
   },
   "cell_type": "code",
   "source": "",
   "id": "ba5577b7224ebdaa",
   "outputs": [],
   "execution_count": 31
  },
  {
   "metadata": {},
   "cell_type": "code",
   "outputs": [],
   "execution_count": null,
   "source": "",
   "id": "f0c8d18005a01d3f"
  }
 ],
 "metadata": {
  "kernelspec": {
   "display_name": "Python 3",
   "language": "python",
   "name": "python3"
  },
  "language_info": {
   "codemirror_mode": {
    "name": "ipython",
    "version": 2
   },
   "file_extension": ".py",
   "mimetype": "text/x-python",
   "name": "python",
   "nbconvert_exporter": "python",
   "pygments_lexer": "ipython2",
   "version": "2.7.6"
  }
 },
 "nbformat": 4,
 "nbformat_minor": 5
}
