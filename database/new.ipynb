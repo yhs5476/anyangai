{
 "cells": [
  {
   "cell_type": "code",
   "id": "initial_id",
   "metadata": {
    "collapsed": true,
    "ExecuteTime": {
     "end_time": "2024-10-15T04:30:24.193086Z",
     "start_time": "2024-10-15T04:30:24.187512Z"
    }
   },
   "source": [
    "import pandas as pd\n",
    "\n",
    "class StateCasesProcessor:\n",
    "    def __init__(self, csv_file_path, state):\n",
    "        self.csv_file_path = csv_file_path\n",
    "        self.state = state\n",
    "        self.data = None\n",
    "        self.state_df = None\n",
    "        self.sorted_state_df = None\n",
    "\n",
    "    def load_data(self):\n",
    "        \"\"\"CSV 파일을 읽어 데이터를 저장합니다.\"\"\"\n",
    "        try:\n",
    "            self.data = pd.read_csv(self.csv_file_path)\n",
    "        except FileNotFoundError:\n",
    "            raise FileNotFoundError(f\"파일을 찾을 수 없습니다: {self.csv_file_path}\")\n",
    "\n",
    "    def filter_by_state(self):\n",
    "        \"\"\"주에 해당하는 데이터를 필터링합니다.\"\"\"\n",
    "        if self.data is None:\n",
    "            raise ValueError(\"데이터가 로드되지 않았습니다. 'load_data()'를 먼저 호출하세요.\")\n",
    "        \n",
    "        self.state_df = self.data[self.data.state == self.state][['date_updated', 'tot_cases']]\n",
    "\n",
    "    def sort_by_date(self):\n",
    "        \"\"\"날짜 기준으로 데이터를 정렬합니다.\"\"\"\n",
    "        if self.state_df is None:\n",
    "            raise ValueError(\"주별 데이터가 필터링되지 않았습니다. 'filter_by_state()'를 먼저 호출하세요.\")\n",
    "        \n",
    "        self.sorted_state_df = self.state_df.sort_values(by='date_updated')\n",
    "        self.sorted_state_df['date'] = pd.to_datetime(self.sorted_state_df['date_updated'])\n",
    "        self.sorted_state_df.sort_values(by='date', inplace=True)\n",
    "        self.sorted_state_df.set_index('date', inplace=True)\n",
    "\n",
    "    def get_total_cases(self):\n",
    "        \"\"\"총 사례 수 데이터를 반환합니다.\"\"\"\n",
    "        if self.sorted_state_df is None:\n",
    "            raise ValueError(\"데이터가 날짜 기준으로 정렬되지 않았습니다. 'sort_by_date()'를 먼저 호출하세요.\")\n",
    "        \n",
    "        total_cases = self.sorted_state_df['tot_cases']\n",
    "        total_cases.index = total_cases.index.astype('string')\n",
    "        return total_cases\n",
    "\n",
    "# 사용 예시\n",
    "# processor = StateCasesProcessor('path_to_file.csv', 'CA')\n",
    "# processor.load_data()\n",
    "# processor.filter_by_state()\n",
    "# processor.sort_by_date()\n",
    "# CA_total_cases = processor.get_total_cases()\n",
    "# print(CA_total_cases)\n"
   ],
   "outputs": [],
   "execution_count": 4
  },
  {
   "metadata": {
    "ExecuteTime": {
     "end_time": "2024-10-15T04:32:09.678177Z",
     "start_time": "2024-10-15T04:32:09.659914Z"
    }
   },
   "cell_type": "code",
   "source": [
    "processor = StateCasesProcessor('USA.csv', 'CA')\n",
    "processor.load_data()\n",
    "processor.filter_by_state()\n",
    "processor.sort_by_date()\n",
    "CA_total_cases = processor.get_total_cases()\n",
    "print(CA_total_cases)\n",
    "CA_total_cases"
   ],
   "id": "8bc5e3dd9e28f7f8",
   "outputs": [
    {
     "name": "stdout",
     "output_type": "stream",
     "text": [
      "date\n",
      "2020-01-23           0\n",
      "2020-01-30           2\n",
      "2020-02-06           8\n",
      "2020-02-13          16\n",
      "2020-02-20          30\n",
      "                ...   \n",
      "2023-04-13    12205573\n",
      "2023-04-20    12218091\n",
      "2023-04-27    12230624\n",
      "2023-05-04    12242634\n",
      "2023-05-11    12251820\n",
      "Name: tot_cases, Length: 173, dtype: int64\n"
     ]
    },
    {
     "data": {
      "text/plain": [
       "date\n",
       "2020-01-23           0\n",
       "2020-01-30           2\n",
       "2020-02-06           8\n",
       "2020-02-13          16\n",
       "2020-02-20          30\n",
       "                ...   \n",
       "2023-04-13    12205573\n",
       "2023-04-20    12218091\n",
       "2023-04-27    12230624\n",
       "2023-05-04    12242634\n",
       "2023-05-11    12251820\n",
       "Name: tot_cases, Length: 173, dtype: int64"
      ]
     },
     "execution_count": 7,
     "metadata": {},
     "output_type": "execute_result"
    }
   ],
   "execution_count": 7
  },
  {
   "metadata": {
    "ExecuteTime": {
     "end_time": "2024-10-15T04:33:02.526200Z",
     "start_time": "2024-10-15T04:33:02.514582Z"
    }
   },
   "cell_type": "code",
   "source": [
    "processor = StateCasesProcessor('USA.csv', 'WA')\n",
    "processor.load_data()\n",
    "processor.filter_by_state()\n",
    "processor.sort_by_date()\n",
    "WA_total_cases = processor.get_total_cases()\n",
    "WA_total_cases"
   ],
   "id": "4772c38c15227e7",
   "outputs": [
    {
     "data": {
      "text/plain": [
       "date\n",
       "2020-01-23          1\n",
       "2020-01-30          1\n",
       "2020-02-06          1\n",
       "2020-02-13          1\n",
       "2020-02-20          1\n",
       "               ...   \n",
       "2023-04-13    1949725\n",
       "2023-04-20    1952116\n",
       "2023-04-27    1954381\n",
       "2023-05-04    1956190\n",
       "2023-05-11    1957759\n",
       "Name: tot_cases, Length: 173, dtype: int64"
      ]
     },
     "execution_count": 10,
     "metadata": {},
     "output_type": "execute_result"
    }
   ],
   "execution_count": 10
  },
  {
   "metadata": {
    "ExecuteTime": {
     "end_time": "2024-10-15T05:01:24.265738Z",
     "start_time": "2024-10-15T05:01:24.250884Z"
    }
   },
   "cell_type": "code",
   "source": [
    "processor = StateCasesProcessor('USA.csv', 'WA')\n",
    "processor.load_data()\n",
    "processor.filter_by_state()\n",
    "processor.sort_by_date()\n",
    "WA_total_cases = processor.get_total_cases()\n",
    "WA_total_cases"
   ],
   "id": "89f8e87222739c21",
   "outputs": [
    {
     "data": {
      "text/plain": [
       "date\n",
       "2020-01-23          1\n",
       "2020-01-30          1\n",
       "2020-02-06          1\n",
       "2020-02-13          1\n",
       "2020-02-20          1\n",
       "               ...   \n",
       "2023-04-13    1949725\n",
       "2023-04-20    1952116\n",
       "2023-04-27    1954381\n",
       "2023-05-04    1956190\n",
       "2023-05-11    1957759\n",
       "Name: tot_cases, Length: 173, dtype: int64"
      ]
     },
     "execution_count": 11,
     "metadata": {},
     "output_type": "execute_result"
    }
   ],
   "execution_count": 11
  },
  {
   "metadata": {},
   "cell_type": "code",
   "outputs": [],
   "execution_count": null,
   "source": [
    "ca_population = 39_995_077\n",
    "rate1 = round(ca_population/29_945_493, 2)\n",
    "rate2 = round(ca_population/8_757_467, 2)\n",
    "rate3 = round(ca_population/12_808_884, 2)\n",
    "rate4 = round(ca_population/7_901_429, 2)\n",
    "\n"
   ],
   "id": "6c3ae0bfb14cda41"
  },
  {
   "metadata": {
    "ExecuteTime": {
     "end_time": "2024-10-15T05:03:34.283472Z",
     "start_time": "2024-10-15T05:03:34.268786Z"
    }
   },
   "cell_type": "code",
   "source": [
    "processor = StateCasesProcessor('USA.csv', 'CA')\n",
    "processor.load_data()\n",
    "processor.filter_by_state()\n",
    "processor.sort_by_date()\n",
    "CA_total_cases = processor.get_total_cases()\n",
    "CA_total_cases"
   ],
   "id": "c3219d3ddfd761d9",
   "outputs": [
    {
     "data": {
      "text/plain": [
       "date\n",
       "2020-01-23           0\n",
       "2020-01-30           2\n",
       "2020-02-06           8\n",
       "2020-02-13          16\n",
       "2020-02-20          30\n",
       "                ...   \n",
       "2023-04-13    12205573\n",
       "2023-04-20    12218091\n",
       "2023-04-27    12230624\n",
       "2023-05-04    12242634\n",
       "2023-05-11    12251820\n",
       "Name: tot_cases, Length: 173, dtype: int64"
      ]
     },
     "execution_count": 15,
     "metadata": {},
     "output_type": "execute_result"
    }
   ],
   "execution_count": 15
  },
  {
   "metadata": {
    "ExecuteTime": {
     "end_time": "2024-10-15T05:03:40.378362Z",
     "start_time": "2024-10-15T05:03:40.359886Z"
    }
   },
   "cell_type": "code",
   "source": [
    "processor = StateCasesProcessor('USA.csv', 'WA')\n",
    "processor.load_data()\n",
    "processor.filter_by_state()\n",
    "processor.sort_by_date()\n",
    "WA_total_cases = processor.get_total_cases()\n",
    "WA_total_cases"
   ],
   "id": "7d2d136875772f79",
   "outputs": [
    {
     "data": {
      "text/plain": [
       "date\n",
       "2020-01-23          1\n",
       "2020-01-30          1\n",
       "2020-02-06          1\n",
       "2020-02-13          1\n",
       "2020-02-20          1\n",
       "               ...   \n",
       "2023-04-13    1949725\n",
       "2023-04-20    1952116\n",
       "2023-04-27    1954381\n",
       "2023-05-04    1956190\n",
       "2023-05-11    1957759\n",
       "Name: tot_cases, Length: 173, dtype: int64"
      ]
     },
     "execution_count": 16,
     "metadata": {},
     "output_type": "execute_result"
    }
   ],
   "execution_count": 16
  },
  {
   "metadata": {
    "ExecuteTime": {
     "end_time": "2024-10-15T05:03:41.481323Z",
     "start_time": "2024-10-15T05:03:41.464622Z"
    }
   },
   "cell_type": "code",
   "source": [
    "processor = StateCasesProcessor('USA.csv', 'TX')\n",
    "processor.load_data()\n",
    "processor.filter_by_state()\n",
    "processor.sort_by_date()\n",
    "TX_total_cases = processor.get_total_cases()\n",
    "TX_total_cases"
   ],
   "id": "3b64067d65377303",
   "outputs": [
    {
     "data": {
      "text/plain": [
       "date\n",
       "2020-01-23          0\n",
       "2020-01-30          0\n",
       "2020-02-06          0\n",
       "2020-02-13          0\n",
       "2020-02-20          0\n",
       "               ...   \n",
       "2023-04-13    8477410\n",
       "2023-04-20    8487654\n",
       "2023-04-27    8496000\n",
       "2023-05-04    8502584\n",
       "2023-05-11    8508204\n",
       "Name: tot_cases, Length: 173, dtype: int64"
      ]
     },
     "execution_count": 17,
     "metadata": {},
     "output_type": "execute_result"
    }
   ],
   "execution_count": 17
  },
  {
   "metadata": {
    "ExecuteTime": {
     "end_time": "2024-10-15T05:04:00.276422Z",
     "start_time": "2024-10-15T05:04:00.260883Z"
    }
   },
   "cell_type": "code",
   "source": [
    "processor = StateCasesProcessor('USA.csv', 'VA')\n",
    "processor.load_data()\n",
    "processor.filter_by_state()\n",
    "processor.sort_by_date()\n",
    "VA_total_cases = processor.get_total_cases()\n",
    "VA_total_cases"
   ],
   "id": "96c94cdb01e7d927",
   "outputs": [
    {
     "data": {
      "text/plain": [
       "date\n",
       "2020-01-23          0\n",
       "2020-01-30          0\n",
       "2020-02-06          0\n",
       "2020-02-13          0\n",
       "2020-02-20          0\n",
       "               ...   \n",
       "2023-04-13    2304034\n",
       "2023-04-20    2305863\n",
       "2023-04-27    2307444\n",
       "2023-05-04    2309101\n",
       "2023-05-11    2310846\n",
       "Name: tot_cases, Length: 173, dtype: int64"
      ]
     },
     "execution_count": 18,
     "metadata": {},
     "output_type": "execute_result"
    }
   ],
   "execution_count": 18
  },
  {
   "metadata": {
    "ExecuteTime": {
     "end_time": "2024-10-15T05:04:14.751823Z",
     "start_time": "2024-10-15T05:04:14.736162Z"
    }
   },
   "cell_type": "code",
   "source": [
    "processor = StateCasesProcessor('USA.csv', 'IL')\n",
    "processor.load_data()\n",
    "processor.filter_by_state()\n",
    "processor.sort_by_date()\n",
    "IL_total_cases = processor.get_total_cases()\n",
    "IL_total_cases"
   ],
   "id": "da6873c6e7933551",
   "outputs": [
    {
     "data": {
      "text/plain": [
       "date\n",
       "2020-01-23          0\n",
       "2020-01-30          1\n",
       "2020-02-06          2\n",
       "2020-02-13          2\n",
       "2020-02-20          2\n",
       "               ...   \n",
       "2023-04-13    4122046\n",
       "2023-04-20    4127624\n",
       "2023-04-27    4131816\n",
       "2023-05-04    4135808\n",
       "2023-05-11    4136659\n",
       "Name: tot_cases, Length: 173, dtype: int64"
      ]
     },
     "execution_count": 19,
     "metadata": {},
     "output_type": "execute_result"
    }
   ],
   "execution_count": 19
  },
  {
   "metadata": {
    "ExecuteTime": {
     "end_time": "2024-10-15T05:04:31.533344Z",
     "start_time": "2024-10-15T05:04:31.531156Z"
    }
   },
   "cell_type": "code",
   "source": [
    "ca_population = 39_995_077\n",
    "rate1 = round(ca_population/29_945_493, 2)\n",
    "rate2 = round(ca_population/8_757_467, 2)\n",
    "rate3 = round(ca_population/12_808_884, 2)\n",
    "rate4 = round(ca_population/7_901_429, 2)"
   ],
   "id": "c0d9dba53577b13b",
   "outputs": [],
   "execution_count": 21
  },
  {
   "metadata": {
    "ExecuteTime": {
     "end_time": "2024-10-15T05:04:32.087067Z",
     "start_time": "2024-10-15T05:04:32.080485Z"
    }
   },
   "cell_type": "code",
   "source": [
    "final_us_revised_df = pd.DataFrame({\n",
    "    'CA' : CA_total_cases,\n",
    "    'TX' : TX_total_cases * rate1,\n",
    "    'VA' : VA_total_cases * rate2,\n",
    "    'WA' : WA_total_cases * rate4,\n",
    "    'IL' : IL_total_cases * rate3,\n",
    "    \n",
    "},index=CA_total_cases.index\n",
    ")\n",
    "final_us_revised_df"
   ],
   "id": "97187aa224a40200",
   "outputs": [
    {
     "data": {
      "text/plain": [
       "                  CA           TX           VA          WA           IL\n",
       "date                                                                   \n",
       "2020-01-23         0         0.00         0.00        5.06         0.00\n",
       "2020-01-30         2         0.00         0.00        5.06         3.12\n",
       "2020-02-06         8         0.00         0.00        5.06         6.24\n",
       "2020-02-13        16         0.00         0.00        5.06         6.24\n",
       "2020-02-20        30         0.00         0.00        5.06         6.24\n",
       "...              ...          ...          ...         ...          ...\n",
       "2023-04-13  12205573  11359729.40  10529435.38  9865608.50  12860783.52\n",
       "2023-04-20  12218091  11373456.36  10537793.91  9877706.96  12878186.88\n",
       "2023-04-27  12230624  11384640.00  10545019.08  9889167.86  12891265.92\n",
       "2023-05-04  12242634  11393462.56  10552591.57  9898321.40  12903720.96\n",
       "2023-05-11  12251820  11400993.36  10560566.22  9906260.54  12906376.08\n",
       "\n",
       "[173 rows x 5 columns]"
      ],
      "text/html": [
       "<div>\n",
       "<style scoped>\n",
       "    .dataframe tbody tr th:only-of-type {\n",
       "        vertical-align: middle;\n",
       "    }\n",
       "\n",
       "    .dataframe tbody tr th {\n",
       "        vertical-align: top;\n",
       "    }\n",
       "\n",
       "    .dataframe thead th {\n",
       "        text-align: right;\n",
       "    }\n",
       "</style>\n",
       "<table border=\"1\" class=\"dataframe\">\n",
       "  <thead>\n",
       "    <tr style=\"text-align: right;\">\n",
       "      <th></th>\n",
       "      <th>CA</th>\n",
       "      <th>TX</th>\n",
       "      <th>VA</th>\n",
       "      <th>WA</th>\n",
       "      <th>IL</th>\n",
       "    </tr>\n",
       "    <tr>\n",
       "      <th>date</th>\n",
       "      <th></th>\n",
       "      <th></th>\n",
       "      <th></th>\n",
       "      <th></th>\n",
       "      <th></th>\n",
       "    </tr>\n",
       "  </thead>\n",
       "  <tbody>\n",
       "    <tr>\n",
       "      <th>2020-01-23</th>\n",
       "      <td>0</td>\n",
       "      <td>0.00</td>\n",
       "      <td>0.00</td>\n",
       "      <td>5.06</td>\n",
       "      <td>0.00</td>\n",
       "    </tr>\n",
       "    <tr>\n",
       "      <th>2020-01-30</th>\n",
       "      <td>2</td>\n",
       "      <td>0.00</td>\n",
       "      <td>0.00</td>\n",
       "      <td>5.06</td>\n",
       "      <td>3.12</td>\n",
       "    </tr>\n",
       "    <tr>\n",
       "      <th>2020-02-06</th>\n",
       "      <td>8</td>\n",
       "      <td>0.00</td>\n",
       "      <td>0.00</td>\n",
       "      <td>5.06</td>\n",
       "      <td>6.24</td>\n",
       "    </tr>\n",
       "    <tr>\n",
       "      <th>2020-02-13</th>\n",
       "      <td>16</td>\n",
       "      <td>0.00</td>\n",
       "      <td>0.00</td>\n",
       "      <td>5.06</td>\n",
       "      <td>6.24</td>\n",
       "    </tr>\n",
       "    <tr>\n",
       "      <th>2020-02-20</th>\n",
       "      <td>30</td>\n",
       "      <td>0.00</td>\n",
       "      <td>0.00</td>\n",
       "      <td>5.06</td>\n",
       "      <td>6.24</td>\n",
       "    </tr>\n",
       "    <tr>\n",
       "      <th>...</th>\n",
       "      <td>...</td>\n",
       "      <td>...</td>\n",
       "      <td>...</td>\n",
       "      <td>...</td>\n",
       "      <td>...</td>\n",
       "    </tr>\n",
       "    <tr>\n",
       "      <th>2023-04-13</th>\n",
       "      <td>12205573</td>\n",
       "      <td>11359729.40</td>\n",
       "      <td>10529435.38</td>\n",
       "      <td>9865608.50</td>\n",
       "      <td>12860783.52</td>\n",
       "    </tr>\n",
       "    <tr>\n",
       "      <th>2023-04-20</th>\n",
       "      <td>12218091</td>\n",
       "      <td>11373456.36</td>\n",
       "      <td>10537793.91</td>\n",
       "      <td>9877706.96</td>\n",
       "      <td>12878186.88</td>\n",
       "    </tr>\n",
       "    <tr>\n",
       "      <th>2023-04-27</th>\n",
       "      <td>12230624</td>\n",
       "      <td>11384640.00</td>\n",
       "      <td>10545019.08</td>\n",
       "      <td>9889167.86</td>\n",
       "      <td>12891265.92</td>\n",
       "    </tr>\n",
       "    <tr>\n",
       "      <th>2023-05-04</th>\n",
       "      <td>12242634</td>\n",
       "      <td>11393462.56</td>\n",
       "      <td>10552591.57</td>\n",
       "      <td>9898321.40</td>\n",
       "      <td>12903720.96</td>\n",
       "    </tr>\n",
       "    <tr>\n",
       "      <th>2023-05-11</th>\n",
       "      <td>12251820</td>\n",
       "      <td>11400993.36</td>\n",
       "      <td>10560566.22</td>\n",
       "      <td>9906260.54</td>\n",
       "      <td>12906376.08</td>\n",
       "    </tr>\n",
       "  </tbody>\n",
       "</table>\n",
       "<p>173 rows × 5 columns</p>\n",
       "</div>"
      ]
     },
     "execution_count": 22,
     "metadata": {},
     "output_type": "execute_result"
    }
   ],
   "execution_count": 22
  },
  {
   "metadata": {
    "ExecuteTime": {
     "end_time": "2024-10-15T05:04:46.623285Z",
     "start_time": "2024-10-15T05:04:46.287071Z"
    }
   },
   "cell_type": "code",
   "source": "final_us_revised_df['2022-01-01':'2022-06-30'].plot.line(rot=45)",
   "id": "f469cf131e685a1f",
   "outputs": [
    {
     "data": {
      "text/plain": [
       "<Axes: xlabel='date'>"
      ]
     },
     "execution_count": 23,
     "metadata": {},
     "output_type": "execute_result"
    },
    {
     "data": {
      "text/plain": [
       "<Figure size 640x480 with 1 Axes>"
      ],
      "image/png": "[encoded data removed]"
     },
     "metadata": {},
     "output_type": "display_data"
    }
   ],
   "execution_count": 23
  },
  {
   "metadata": {},
   "cell_type": "code",
   "outputs": [],
   "execution_count": null,
   "source": "",
   "id": "e9cbcecd45e6b7cc"
  }
 ],
 "metadata": {
  "kernelspec": {
   "display_name": "Python 3",
   "language": "python",
   "name": "python3"
  },
  "language_info": {
   "codemirror_mode": {
    "name": "ipython",
    "version": 2
   },
   "file_extension": ".py",
   "mimetype": "text/x-python",
   "name": "python",
   "nbconvert_exporter": "python",
   "pygments_lexer": "ipython2",
   "version": "2.7.6"
  }
 },
 "nbformat": 4,
 "nbformat_minor": 5
}
