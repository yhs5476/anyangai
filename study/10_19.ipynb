{
 "cells": [
  {
   "cell_type": "code",
   "id": "initial_id",
   "metadata": {
    "collapsed": true,
    "ExecuteTime": {
     "end_time": "2024-10-19T00:27:57.281715Z",
     "start_time": "2024-10-19T00:27:57.280043Z"
    }
   },
   "source": [
    "import numpy as np\n",
    "import pandas as pd\n",
    "import matplotlib.pyplot as plt\n",
    "import seaborn as sns\n"
   ],
   "outputs": [],
   "execution_count": 1
  },
  {
   "metadata": {
    "ExecuteTime": {
     "end_time": "2024-10-19T00:29:12.851545Z",
     "start_time": "2024-10-19T00:29:12.849228Z"
    }
   },
   "cell_type": "code",
   "source": [
    "A= set('abracadabra')\n",
    "B= set('alacazam')\n",
    "\n",
    "print(A|B)"
   ],
   "id": "58fa325e9c396797",
   "outputs": [
    {
     "name": "stdout",
     "output_type": "stream",
     "text": [
      "{'z', 'l', 'c', 'r', 'b', 'm', 'a', 'd'}\n"
     ]
    }
   ],
   "execution_count": 4
  },
  {
   "metadata": {
    "ExecuteTime": {
     "end_time": "2024-10-19T00:30:22.011029Z",
     "start_time": "2024-10-19T00:30:22.008972Z"
    }
   },
   "cell_type": "code",
   "source": "print(A&B)",
   "id": "b2eb395142d299ca",
   "outputs": [
    {
     "name": "stdout",
     "output_type": "stream",
     "text": [
      "{'c', 'a'}\n"
     ]
    }
   ],
   "execution_count": 5
  },
  {
   "metadata": {
    "ExecuteTime": {
     "end_time": "2024-10-19T00:30:30.471203Z",
     "start_time": "2024-10-19T00:30:30.468685Z"
    }
   },
   "cell_type": "code",
   "source": "print(A^B)",
   "id": "8f8691c74f154c89",
   "outputs": [
    {
     "name": "stdout",
     "output_type": "stream",
     "text": [
      "{'z', 'l', 'b', 'm', 'r', 'd'}\n"
     ]
    }
   ],
   "execution_count": 6
  },
  {
   "metadata": {
    "ExecuteTime": {
     "end_time": "2024-10-19T00:30:48.500898Z",
     "start_time": "2024-10-19T00:30:48.498559Z"
    }
   },
   "cell_type": "code",
   "source": [
    "print(B-A)\n",
    "print(A-B)"
   ],
   "id": "e38e2b3dc944f10a",
   "outputs": [
    {
     "name": "stdout",
     "output_type": "stream",
     "text": [
      "{'z', 'm', 'l'}\n",
      "{'b', 'r', 'd'}\n"
     ]
    }
   ],
   "execution_count": 7
  },
  {
   "metadata": {
    "ExecuteTime": {
     "end_time": "2024-10-19T00:31:29.958470Z",
     "start_time": "2024-10-19T00:31:29.954348Z"
    }
   },
   "cell_type": "code",
   "source": "len(A|B)",
   "id": "473b675bf1ce8bf3",
   "outputs": [
    {
     "data": {
      "text/plain": [
       "8"
      ]
     },
     "execution_count": 8,
     "metadata": {},
     "output_type": "execute_result"
    }
   ],
   "execution_count": 8
  },
  {
   "metadata": {
    "ExecuteTime": {
     "end_time": "2024-10-19T00:32:09.205177Z",
     "start_time": "2024-10-19T00:32:09.202286Z"
    }
   },
   "cell_type": "code",
   "source": [
    "tuple()\n",
    "list()"
   ],
   "id": "341ef71baa8a462",
   "outputs": [
    {
     "data": {
      "text/plain": [
       "[]"
      ]
     },
     "execution_count": 9,
     "metadata": {},
     "output_type": "execute_result"
    }
   ],
   "execution_count": 9
  },
  {
   "metadata": {},
   "cell_type": "code",
   "outputs": [],
   "execution_count": null,
   "source": "",
   "id": "e2a1f2d553e6add1"
  }
 ],
 "metadata": {
  "kernelspec": {
   "display_name": "Python 3",
   "language": "python",
   "name": "python3"
  },
  "language_info": {
   "codemirror_mode": {
    "name": "ipython",
    "version": 2
   },
   "file_extension": ".py",
   "mimetype": "text/x-python",
   "name": "python",
   "nbconvert_exporter": "python",
   "pygments_lexer": "ipython2",
   "version": "2.7.6"
  }
 },
 "nbformat": 4,
 "nbformat_minor": 5
}
